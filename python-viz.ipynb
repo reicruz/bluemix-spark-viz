{
 "cells": [
  {
   "cell_type": "markdown",
   "metadata": {},
   "source": [
    "#Location Viz Sample Notebook - Python\n",
    "\n",
    "In this notebook we will work with data from our Weighted Position model for Presence Insights to visualize location data before and after we apply our smoothing algorithm. \n",
    "\n",
    "###Load the data\n",
    "\n",
    "First, we will need to upload our location data file to the object store.\n",
    "- Create an object store in your Spark service instance\n",
    "- On the palette to the right, navigate to the Data Sources tab\n",
    "- Download [sample data](https://raw.githubusercontent.com/reinaldo422/bluemix-spark-viz/master/smoothed_data.json) (right-click and Save As...) and add as a source\n"
    ]
  },
  {
   "cell_type": "code",
   "execution_count": 1,
   "metadata": {
    "collapsed": false
   },
   "outputs": [],
   "source": [
    "# Import SQLContext and data types\n",
    "from pyspark.sql import SQLContext\n",
    "from pyspark.sql.types import *\n",
    " \n",
    "# Spark Notebook has existing SparkContext (sc)\n",
    "sqlContext = SQLContext(sc)\n",
    "\n",
    "# Read sample Presence Insights position data\n",
    "json = sqlContext.read.json(\"swift://notebooks.spark/smoothed_data.json\")"
   ]
  },
  {
   "cell_type": "markdown",
   "metadata": {},
   "source": [
    "###Separate each individual event"
   ]
  },
  {
   "cell_type": "code",
   "execution_count": 2,
   "metadata": {
    "collapsed": false
   },
   "outputs": [],
   "source": [
    "from pyspark.sql.functions import explode\n",
    "\n",
    "# Use explode to create rows for each individual device event\n",
    "df = json.select(\"sites\", explode(\"data\").alias(\"data\"))\n",
    "\n",
    "devicesDF = df.select(\n",
    "            df.data.original.device_descriptor.alias(\"device\"),\n",
    "            df.sites.floors.properties.z.getItem(0).alias(\"z\"),\n",
    "            \"data.original.x\",\n",
    "            \"data.original.y\",\n",
    "            \"data.smooth_x\",\n",
    "            \"data.smooth_y\")\n",
    "\n",
    "devicesDF.registerTempTable(\"devices\")"
   ]
  },
  {
   "cell_type": "code",
   "execution_count": 3,
   "metadata": {
    "collapsed": false
   },
   "outputs": [
    {
     "name": "stdout",
     "output_type": "stream",
     "text": [
      "+--------+---+------------------+------------------+------------------+------------------+\n",
      "|  device|  z|                 x|                 y|          smooth_x|          smooth_y|\n",
      "+--------+---+------------------+------------------+------------------+------------------+\n",
      "|device24|  1| 72.73045591866911| 8.319840421742114| 72.73045591866911| 8.319840421742114|\n",
      "| device3|  1|  90.5465310009641|36.703487552984704|  90.5465310009641|36.703487552984704|\n",
      "|device10|  1| 41.25040011924511| 6.408479153740125| 41.25040011924511| 6.408479153740125|\n",
      "|device14|  1| 23.90948333701854| 35.87029559275763| 23.90948333701854| 35.87029559275763|\n",
      "|device36|  1|111.62702944750662|29.922133782003073|111.62702944750662|29.922133782003073|\n",
      "| device0|  1|19.393095282881173|  8.46391803339744|19.393095282881173|  8.46391803339744|\n",
      "|device33|  1| 74.54123897274856|15.496943428451699| 74.54123897274856|15.496943428451699|\n",
      "|device27|  1| 52.31651450464346| 39.98552293379546| 52.31651450464346| 39.98552293379546|\n",
      "|device38|  1|15.559259959479848|  8.77566803162914|15.559259959479848|  8.77566803162914|\n",
      "| device2|  0| 88.53923739847058|6.8240703955015825| 88.53923739847058|6.8240703955015825|\n",
      "|device13|  0|14.905244689064174| 5.286156443494683|14.905244689064174| 5.286156443494683|\n",
      "|device17|  0|119.40034745266769|12.909431274718315|119.40034745266769|12.909431274718315|\n",
      "|device28|  0| 65.47179350491724| 3.167131359207289| 65.47179350491724| 3.167131359207289|\n",
      "|device31|  0| 62.87290562003217|46.005525568289045| 62.87290562003217|46.005525568289045|\n",
      "|device39|  0| 111.6738415778835| 58.09574790932257| 111.6738415778835| 58.09574790932257|\n",
      "|device21|  0|13.921554481570997| 55.24369007739725|13.921554481570997| 55.24369007739725|\n",
      "|device32|  0| 86.47785399982807|2.3761467185668073| 86.47785399982807|2.3761467185668073|\n",
      "| device8|  0|102.10054397843855| 6.568705414313811|102.10054397843855| 6.568705414313811|\n",
      "|device11|  0|28.143611376773407|42.570224245357366|28.143611376773407|42.570224245357366|\n",
      "|device19|  0|  58.5797159274414| 4.706443716021953|  58.5797159274414| 4.706443716021953|\n",
      "+--------+---+------------------+------------------+------------------+------------------+\n",
      "only showing top 20 rows\n",
      "\n"
     ]
    }
   ],
   "source": [
    "devicesDF.show()"
   ]
  },
  {
   "cell_type": "markdown",
   "metadata": {},
   "source": [
    "###Select device and floor"
   ]
  },
  {
   "cell_type": "code",
   "execution_count": 4,
   "metadata": {
    "collapsed": false
   },
   "outputs": [],
   "source": [
    "plot_data = sqlContext.sql(\"SELECT * FROM devices WHERE device='device1' AND z=0\").collect()"
   ]
  },
  {
   "cell_type": "markdown",
   "metadata": {},
   "source": [
    "##Plotting with matplotlib\n",
    "###Gather the data"
   ]
  },
  {
   "cell_type": "code",
   "execution_count": 5,
   "metadata": {
    "collapsed": true
   },
   "outputs": [],
   "source": [
    "x = []\n",
    "y = []\n",
    "smooth_x = []\n",
    "smooth_y = []\n",
    "\n",
    "for data in plot_data:\n",
    "    x.append(data.x)\n",
    "    y.append(data.y)\n",
    "    smooth_x.append(data.smooth_x)\n",
    "    smooth_y.append(data.smooth_y)"
   ]
  },
  {
   "cell_type": "markdown",
   "metadata": {},
   "source": [
    "###Raw data"
   ]
  },
  {
   "cell_type": "code",
   "execution_count": 6,
   "metadata": {
    "collapsed": false
   },
   "outputs": [
    {
     "data": {
      "image/png": "[encoded data removed]",
      "text/plain": [
       "<matplotlib.figure.Figure at 0x7f23677eb9d0>"
      ]
     },
     "metadata": {},
     "output_type": "display_data"
    }
   ],
   "source": [
    "%matplotlib inline\n",
    "import matplotlib\n",
    "import numpy as np\n",
    "import matplotlib.pyplot as plt\n",
    "\n",
    "\n",
    "area = np.pi * 15\n",
    "plt.scatter(x, y, s=area, c=\"blue\")\n",
    "plt.title('Raw Data Points')\n",
    "plt.xlabel('x-coordinates')\n",
    "plt.ylabel('y-coordinates')\n",
    "plt.show()"
   ]
  },
  {
   "cell_type": "markdown",
   "metadata": {},
   "source": [
    "###Smooth data"
   ]
  },
  {
   "cell_type": "code",
   "execution_count": 7,
   "metadata": {
    "collapsed": false,
    "scrolled": true
   },
   "outputs": [
    {
     "data": {
      "image/png": "[encoded data removed]",
      "text/plain": [
       "<matplotlib.figure.Figure at 0x7f236c028b50>"
      ]
     },
     "metadata": {},
     "output_type": "display_data"
    }
   ],
   "source": [
    "plt.scatter(smooth_x, smooth_y, s=area, c=\"red\")\n",
    "plt.title('Smooth Data Points')\n",
    "plt.xlabel('x-coordinates')\n",
    "plt.ylabel('y-coordinates')\n",
    "plt.show()"
   ]
  },
  {
   "cell_type": "code",
   "execution_count": null,
   "metadata": {
    "collapsed": true
   },
   "outputs": [],
   "source": []
  }
 ],
 "metadata": {
  "kernelspec": {
   "display_name": "Python 2",
   "language": "python",
   "name": "python2"
  },
  "language_info": {
   "codemirror_mode": {
    "name": "ipython",
    "version": 2
   },
   "file_extension": ".py",
   "mimetype": "text/x-python",
   "name": "python",
   "nbconvert_exporter": "python",
   "pygments_lexer": "ipython2",
   "version": "2.7.9"
  }
 },
 "nbformat": 4,
 "nbformat_minor": 0
}
